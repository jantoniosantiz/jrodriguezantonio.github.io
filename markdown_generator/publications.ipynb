{
 "cells": [
  {
   "cell_type": "markdown",
   "metadata": {
    "deletable": true,
    "editable": true
   },
   "source": [
    "# Publications markdown generator for academicpages\n",
    "\n",
    "Takes a TSV of publications with metadata and converts them for use with [academicpages.github.io](academicpages.github.io). This is an interactive Jupyter notebook ([see more info here](http://jupyter-notebook-beginner-guide.readthedocs.io/en/latest/what_is_jupyter.html)). The core python code is also in `publications.py`. Run either from the `markdown_generator` folder after replacing `publications.tsv` with one containing your data.\n",
    "\n",
    "TODO: Make this work with BibTex and other databases of citations, rather than Stuart's non-standard TSV format and citation style.\n"
   ]
  },
  {
   "cell_type": "markdown",
   "metadata": {},
   "source": [
    "## Data format\n",
    "\n",
    "The TSV needs to have the following columns: pub_date, title, venue, excerpt, citation, site_url, and paper_url, with a header at the top. \n",
    "\n",
    "- `excerpt` and `paper_url` can be blank, but the others must have values. \n",
    "- `pub_date` must be formatted as YYYY-MM-DD.\n",
    "- `url_slug` will be the descriptive part of the .md file and the permalink URL for the page about the paper. The .md file will be `YYYY-MM-DD-[url_slug].md` and the permalink will be `https://[yourdomain]/publications/YYYY-MM-DD-[url_slug]`\n",
    "\n",
    "This is how the raw file looks (it doesn't look pretty, use a spreadsheet or other program to edit and create)."
   ]
  },
  {
   "cell_type": "code",
   "execution_count": 18,
   "metadata": {
    "collapsed": false
   },
   "outputs": [
    {
     "name": "stdout",
     "output_type": "stream",
     "text": [
      "pub_date\ttitle\tvenue\texcerpt\tcitation\turl_slug\tpaper_url\tslides_url\n",
      "2024-04-22\tMetal-ring interactions in group 2 ansa-metallocenes: assessed with the local vibrational mode theory\tPhys. Chem. Chem. Phys.\t\t\"Antonio, Juliana J. and Kraka, Elfi. \"\"Metal-ring interactions in group 2 ansa-metallocenes: assessed with the local vibrational mode theory\"\" <i>Phys. Chem. Chem. Phys.</i>, <b>2024</b>, <i>26</i>, 15143-15155\"\tAntonio2024\thttp://academicpages.github.io/files/paper1.pdf\thttp://academicpages.github.io/files/slides1.pdf\n",
      "2023-12-02\tIron-histidine bonding in bishistidyl hemoproteins - A local vibrational mode study\tJ. Comput. Chem.\t\t\"Friendorf, Marek; Antonio, Juliana J.; Kraka, Elfi. \"\"Iron-histidine bonding in bishistidyl hemoproteins - A local vibrational mode study\"\" <i> J. Comput. Chem.</i>, <b>2024</b>, <i>45</i>, 574-588\"\tFreindorf2024\thttp://academicpages.github.io/files/paper2.pdf\thttp://academicpages.github.io/files/slides1.pdf\n",
      "2023-05-15\tReaction mechanism - explored with the unified reaction valley approach\tChem. Commun.\t\t\"Kraka, Elfi; Antonio, Juliana J.; Freindorf, Marek. \"\"Reaction mechanism - explored with the unified reaction valley approach\"\" <i>Chem. Commun.</i>, <b>2023</b>, <i>59</i>, 7151-7165\"\tKraka2023\thttp://academicpages.github.io/files/paper3.pdf\thttp://academicpages.github.io/files/slides1.pdf\n",
      "2023-09-29\tHydrogen Sulfide Ligation in Hemoglobin I of�Lucina pectinata_A QM/MM and Local Mode Study\tJ. Phys. Chem. A\t\t\"Friendorf, Marek; Antonio, Juliana J.; Kraka, Elfi. \"\"Hydrogen Sulfide Ligation in Hemoglobin I of Lucina pectinata - A QM/MM and Local Mode Study\"\" <i>J. Phys. Chem. A</i>, <b>2023</b>, <i>127</i>, 8316-8329\"\tFreindorf2023\thttp://academicpages.github.io/files/paper4.pdf\thttp://academicpages.github.io/files/slides1.pdf\n",
      "2023-07-21\t<i>Ortho</i>-Fluoro Effect on the C-C Bond Activation of Benzonitrile Using Zerovalent Nickel\tOrganometallics\t\t\"Lachaize, Sebastien; Gallegos, Dominique C.; Antonio, Juliana J.; Atesin, Abdurrahman C.; Atesin, Tulay A.; Jones, William D. \"\"<i>Ortho</i>-Fluoro Effect on the C-C Bond Activation of Benzonitrile Using Zerovalent Nickel\"\" <i> Organometallics</i>, <b>2023</b>, <i>42</i>, 2134-2147\"\tLachaize2023\thttp://academicpages.github.io/files/paper5.pdf\thttp://academicpages.github.io/files/slides1.pdf\n",
      "2023-07-17\tNoncovalent pi Interaction in Mutated Aquomet-Myoglobin Proteins: A QM/MM and Local Vibrational Mode Study\tBiochemistry\t\t\"Antonio, Juliana J. and Kraka, Elfi \"\"Noncovalent pi Interactions in Mutated Aquomet-Myoglobin Proteins: A QM/MM and Local Vibrational Mode Study\"\" <i>Biochemistry</i>, <b>2023</b>,  <i>62</i>, 2325-2337\"\tAntonio2023\thttp://academicpages.github.io/files/paper6.pdf\thttp://academicpages.github.io/files/slides1.pdf\n",
      "2022-12-06\tAutomatic Generation of Local Vibrational Mode Parameters: From Small to Large Molecules and QM/MM Systems\tJ. Phys. Chem. A\t\t\"Moura, Renaldo T.; Quintano, Mateus; Antonio, Juliana J.; Freindorf, Marek; Kraka, Elfi. \"\"Automatic Generation of Local Vibrational Mode Parameters: From Small to Large Molecules and QM/MM Systems\"\" <i>J. Phys. Chem. A</i>, <b>2022</b>, 9313-9331\"\tMoura2022\thttp://academicpages.github.io/files/paper7.pdf\thttp://academicpages.github.io/files/slides1.pdf\n",
      "2022-11-08\tThe Local Vibrational Mode Theory and Its Place in the Vibrational Spectroscopy Arena\tJ. Phys. Chem. A\t\t\"Kraka, Elfi; Quintano, Mateus; Antonio, Juliana J.; La Force, Hunter W.; Freindorf, Marek. \"\"The Local Vibrational Mode Theory and Its Place in the Vibrational Spectroscopy Arena\"\" <i>J. Phys. Chem. A</i>, <b>2022</b>, 8781-8798\"\tKraka2022\thttp://academicpages.github.io/files/paper8.pdf\thttp://academicpages.github.io/files/slides1.pdf"
     ]
    }
   ],
   "source": [
    "!cat publications.tsv"
   ]
  },
  {
   "cell_type": "markdown",
   "metadata": {},
   "source": [
    "## Import pandas\n",
    "\n",
    "We are using the very handy pandas library for dataframes."
   ]
  },
  {
   "cell_type": "code",
   "execution_count": 19,
   "metadata": {
    "collapsed": true,
    "deletable": true,
    "editable": true
   },
   "outputs": [],
   "source": [
    "import pandas as pd"
   ]
  },
  {
   "cell_type": "markdown",
   "metadata": {},
   "source": [
    "## Import TSV\n",
    "\n",
    "Pandas makes this easy with the read_csv function. We are using a TSV, so we specify the separator as a tab, or `\\t`.\n",
    "\n",
    "I found it important to put this data in a tab-separated values format, because there are a lot of commas in this kind of data and comma-separated values can get messed up. However, you can modify the import statement, as pandas also has read_excel(), read_json(), and others."
   ]
  },
  {
   "cell_type": "code",
   "execution_count": 26,
   "metadata": {
    "collapsed": false,
    "deletable": true,
    "editable": true
   },
   "outputs": [
    {
     "data": {
      "text/html": [
       "<div>\n",
       "<style scoped>\n",
       "    .dataframe tbody tr th:only-of-type {\n",
       "        vertical-align: middle;\n",
       "    }\n",
       "\n",
       "    .dataframe tbody tr th {\n",
       "        vertical-align: top;\n",
       "    }\n",
       "\n",
       "    .dataframe thead th {\n",
       "        text-align: right;\n",
       "    }\n",
       "</style>\n",
       "<table border=\"1\" class=\"dataframe\">\n",
       "  <thead>\n",
       "    <tr style=\"text-align: right;\">\n",
       "      <th></th>\n",
       "      <th>pub_date</th>\n",
       "      <th>title</th>\n",
       "      <th>venue</th>\n",
       "      <th>excerpt</th>\n",
       "      <th>citation</th>\n",
       "      <th>url_slug</th>\n",
       "      <th>paper_url</th>\n",
       "      <th>slides_url</th>\n",
       "    </tr>\n",
       "  </thead>\n",
       "  <tbody>\n",
       "    <tr>\n",
       "      <th>0</th>\n",
       "      <td>2024-04-22</td>\n",
       "      <td>Metal-ring interactions in group 2 ansa-metall...</td>\n",
       "      <td>Phys. Chem. Chem. Phys.</td>\n",
       "      <td>NaN</td>\n",
       "      <td>Antonio, Juliana J. and Kraka, Elfi. \"Metal-ri...</td>\n",
       "      <td>Antonio2024</td>\n",
       "      <td>http://academicpages.github.io/files/paper1.pdf</td>\n",
       "      <td>http://academicpages.github.io/files/slides1.pdf</td>\n",
       "    </tr>\n",
       "    <tr>\n",
       "      <th>1</th>\n",
       "      <td>2023-12-02</td>\n",
       "      <td>Iron-histidine bonding in bishistidyl hemoprot...</td>\n",
       "      <td>J. Comput. Chem.</td>\n",
       "      <td>NaN</td>\n",
       "      <td>Friendorf, Marek; Antonio, Juliana J.; Kraka, ...</td>\n",
       "      <td>Freindorf2024</td>\n",
       "      <td>http://academicpages.github.io/files/paper2.pdf</td>\n",
       "      <td>http://academicpages.github.io/files/slides1.pdf</td>\n",
       "    </tr>\n",
       "    <tr>\n",
       "      <th>2</th>\n",
       "      <td>2023-05-15</td>\n",
       "      <td>Reaction mechanism - explored with the unified...</td>\n",
       "      <td>Chem. Commun.</td>\n",
       "      <td>NaN</td>\n",
       "      <td>Kraka, Elfi; Antonio, Juliana J.; Freindorf, M...</td>\n",
       "      <td>Kraka2023</td>\n",
       "      <td>http://academicpages.github.io/files/paper3.pdf</td>\n",
       "      <td>http://academicpages.github.io/files/slides1.pdf</td>\n",
       "    </tr>\n",
       "    <tr>\n",
       "      <th>3</th>\n",
       "      <td>2023-09-29</td>\n",
       "      <td>Hydrogen Sulfide Ligation in Hemoglobin I of L...</td>\n",
       "      <td>J. Phys. Chem. A</td>\n",
       "      <td>NaN</td>\n",
       "      <td>Friendorf, Marek; Antonio, Juliana J.; Kraka, ...</td>\n",
       "      <td>Freindorf2023</td>\n",
       "      <td>http://academicpages.github.io/files/paper4.pdf</td>\n",
       "      <td>http://academicpages.github.io/files/slides1.pdf</td>\n",
       "    </tr>\n",
       "    <tr>\n",
       "      <th>4</th>\n",
       "      <td>2023-07-21</td>\n",
       "      <td>&lt;i&gt;Ortho&lt;/i&gt;-Fluoro Effect on the C-C Bond Act...</td>\n",
       "      <td>Organometallics</td>\n",
       "      <td>NaN</td>\n",
       "      <td>Lachaize, Sebastien; Gallegos, Dominique C.; A...</td>\n",
       "      <td>Lachaize2023</td>\n",
       "      <td>http://academicpages.github.io/files/paper5.pdf</td>\n",
       "      <td>http://academicpages.github.io/files/slides1.pdf</td>\n",
       "    </tr>\n",
       "    <tr>\n",
       "      <th>5</th>\n",
       "      <td>2023-07-17</td>\n",
       "      <td>Noncovalent pi Interaction in Mutated Aquomet-...</td>\n",
       "      <td>Biochemistry</td>\n",
       "      <td>NaN</td>\n",
       "      <td>Antonio, Juliana J. and Kraka, Elfi \"Noncovale...</td>\n",
       "      <td>Antonio2023</td>\n",
       "      <td>http://academicpages.github.io/files/paper6.pdf</td>\n",
       "      <td>http://academicpages.github.io/files/slides1.pdf</td>\n",
       "    </tr>\n",
       "    <tr>\n",
       "      <th>6</th>\n",
       "      <td>2022-12-06</td>\n",
       "      <td>Automatic Generation of Local Vibrational Mode...</td>\n",
       "      <td>J. Phys. Chem. A</td>\n",
       "      <td>NaN</td>\n",
       "      <td>Moura, Renaldo T.; Quintano, Mateus; Antonio, ...</td>\n",
       "      <td>Moura2022</td>\n",
       "      <td>http://academicpages.github.io/files/paper7.pdf</td>\n",
       "      <td>http://academicpages.github.io/files/slides1.pdf</td>\n",
       "    </tr>\n",
       "    <tr>\n",
       "      <th>7</th>\n",
       "      <td>2022-11-08</td>\n",
       "      <td>The Local Vibrational Mode Theory and Its Plac...</td>\n",
       "      <td>J. Phys. Chem. A</td>\n",
       "      <td>NaN</td>\n",
       "      <td>Kraka, Elfi; Quintano, Mateus; Antonio, Julian...</td>\n",
       "      <td>Kraka2022</td>\n",
       "      <td>http://academicpages.github.io/files/paper8.pdf</td>\n",
       "      <td>http://academicpages.github.io/files/slides1.pdf</td>\n",
       "    </tr>\n",
       "  </tbody>\n",
       "</table>\n",
       "</div>"
      ],
      "text/plain": [
       "     pub_date                                              title  \\\n",
       "0  2024-04-22  Metal-ring interactions in group 2 ansa-metall...   \n",
       "1  2023-12-02  Iron-histidine bonding in bishistidyl hemoprot...   \n",
       "2  2023-05-15  Reaction mechanism - explored with the unified...   \n",
       "3  2023-09-29  Hydrogen Sulfide Ligation in Hemoglobin I of L...   \n",
       "4  2023-07-21  <i>Ortho</i>-Fluoro Effect on the C-C Bond Act...   \n",
       "5  2023-07-17  Noncovalent pi Interaction in Mutated Aquomet-...   \n",
       "6  2022-12-06  Automatic Generation of Local Vibrational Mode...   \n",
       "7  2022-11-08  The Local Vibrational Mode Theory and Its Plac...   \n",
       "\n",
       "                     venue  excerpt  \\\n",
       "0  Phys. Chem. Chem. Phys.      NaN   \n",
       "1         J. Comput. Chem.      NaN   \n",
       "2            Chem. Commun.      NaN   \n",
       "3         J. Phys. Chem. A      NaN   \n",
       "4          Organometallics      NaN   \n",
       "5             Biochemistry      NaN   \n",
       "6         J. Phys. Chem. A      NaN   \n",
       "7         J. Phys. Chem. A      NaN   \n",
       "\n",
       "                                            citation       url_slug  \\\n",
       "0  Antonio, Juliana J. and Kraka, Elfi. \"Metal-ri...    Antonio2024   \n",
       "1  Friendorf, Marek; Antonio, Juliana J.; Kraka, ...  Freindorf2024   \n",
       "2  Kraka, Elfi; Antonio, Juliana J.; Freindorf, M...      Kraka2023   \n",
       "3  Friendorf, Marek; Antonio, Juliana J.; Kraka, ...  Freindorf2023   \n",
       "4  Lachaize, Sebastien; Gallegos, Dominique C.; A...   Lachaize2023   \n",
       "5  Antonio, Juliana J. and Kraka, Elfi \"Noncovale...    Antonio2023   \n",
       "6  Moura, Renaldo T.; Quintano, Mateus; Antonio, ...      Moura2022   \n",
       "7  Kraka, Elfi; Quintano, Mateus; Antonio, Julian...      Kraka2022   \n",
       "\n",
       "                                         paper_url  \\\n",
       "0  http://academicpages.github.io/files/paper1.pdf   \n",
       "1  http://academicpages.github.io/files/paper2.pdf   \n",
       "2  http://academicpages.github.io/files/paper3.pdf   \n",
       "3  http://academicpages.github.io/files/paper4.pdf   \n",
       "4  http://academicpages.github.io/files/paper5.pdf   \n",
       "5  http://academicpages.github.io/files/paper6.pdf   \n",
       "6  http://academicpages.github.io/files/paper7.pdf   \n",
       "7  http://academicpages.github.io/files/paper8.pdf   \n",
       "\n",
       "                                         slides_url  \n",
       "0  http://academicpages.github.io/files/slides1.pdf  \n",
       "1  http://academicpages.github.io/files/slides1.pdf  \n",
       "2  http://academicpages.github.io/files/slides1.pdf  \n",
       "3  http://academicpages.github.io/files/slides1.pdf  \n",
       "4  http://academicpages.github.io/files/slides1.pdf  \n",
       "5  http://academicpages.github.io/files/slides1.pdf  \n",
       "6  http://academicpages.github.io/files/slides1.pdf  \n",
       "7  http://academicpages.github.io/files/slides1.pdf  "
      ]
     },
     "execution_count": 26,
     "metadata": {},
     "output_type": "execute_result"
    }
   ],
   "source": [
    "publications = pd.read_csv(\"publications.tsv\", sep=\"\\t\", header=0)\n",
    "publications\n"
   ]
  },
  {
   "cell_type": "markdown",
   "metadata": {},
   "source": [
    "## Escape special characters\n",
    "\n",
    "YAML is very picky about how it takes a valid string, so we are replacing single and double quotes (and ampersands) with their HTML encoded equivilents. This makes them look not so readable in raw format, but they are parsed and rendered nicely."
   ]
  },
  {
   "cell_type": "code",
   "execution_count": 28,
   "metadata": {
    "collapsed": true,
    "deletable": true,
    "editable": true
   },
   "outputs": [],
   "source": [
    "html_escape_table = {\n",
    "    \"&\": \"&amp;\",\n",
    "    '\"': \"&quot;\",\n",
    "    \"'\": \"&apos;\"\n",
    "    }\n",
    "\n",
    "def html_escape(text):\n",
    "    \"\"\"Produce entities within text.\"\"\"\n",
    "    return \"\".join(html_escape_table.get(c,c) for c in text)"
   ]
  },
  {
   "cell_type": "markdown",
   "metadata": {},
   "source": [
    "## Creating the markdown files\n",
    "\n",
    "This is where the heavy lifting is done. This loops through all the rows in the TSV dataframe, then starts to concatentate a big string (```md```) that contains the markdown for each type. It does the YAML metadata first, then does the description for the individual page."
   ]
  },
  {
   "cell_type": "code",
   "execution_count": 29,
   "metadata": {
    "collapsed": false,
    "deletable": true,
    "editable": true
   },
   "outputs": [],
   "source": [
    "import os\n",
    "for row, item in publications.iterrows():\n",
    "    \n",
    "    md_filename = str(item.pub_date) + \"-\" + item.url_slug + \".md\"\n",
    "    html_filename = str(item.pub_date) + \"-\" + item.url_slug\n",
    "    year = item.pub_date[:4]\n",
    "    \n",
    "    ## YAML variables\n",
    "    \n",
    "    md = \"---\\ntitle: \\\"\"   + item.title + '\"\\n'\n",
    "    \n",
    "    md += \"\"\"collection: publications\"\"\"\n",
    "    \n",
    "    md += \"\"\"\\npermalink: /publication/\"\"\" + html_filename\n",
    "    \n",
    "    if len(str(item.excerpt)) > 5:\n",
    "        md += \"\\nexcerpt: '\" + html_escape(item.excerpt) + \"'\"\n",
    "    \n",
    "    md += \"\\ndate: \" + str(item.pub_date) \n",
    "    \n",
    "    md += \"\\nvenue: '\" + html_escape(item.venue) + \"'\"\n",
    "    \n",
    "    if len(str(item.slides_url)) > 5:\n",
    "        md += \"\\nslidesurl: '\" + item.slides_url + \"'\"\n",
    "\n",
    "    if len(str(item.paper_url)) > 5:\n",
    "        md += \"\\npaperurl: '\" + item.paper_url + \"'\"\n",
    "    \n",
    "    md += \"\\ncitation: '\" + html_escape(item.citation) + \"'\"\n",
    "    \n",
    "    md += \"\\n---\"\n",
    "    \n",
    "    ## Markdown description for individual page\n",
    "        \n",
    "    if len(str(item.excerpt)) > 5:\n",
    "        md += \"\\n\" + html_escape(item.excerpt) + \"\\n\"\n",
    "\n",
    "    if len(str(item.slides_url)) > 5:\n",
    "        md += \"\\n[Download slides here](\" + item.slides_url + \")\\n\" \n",
    "\n",
    "    if len(str(item.paper_url)) > 5:\n",
    "        md += \"\\n[Download paper here](\" + item.paper_url + \")\\n\" \n",
    "        \n",
    "    md += \"\\nRecommended citation: \" + item.citation\n",
    "    \n",
    "    md_filename = os.path.basename(md_filename)\n",
    "       \n",
    "    with open(\"../_publications/\" + md_filename, 'w') as f:\n",
    "        f.write(md)"
   ]
  },
  {
   "cell_type": "markdown",
   "metadata": {},
   "source": [
    "These files are in the publications directory, one directory below where we're working from."
   ]
  },
  {
   "cell_type": "code",
   "execution_count": 30,
   "metadata": {
    "collapsed": false,
    "deletable": true,
    "editable": true
   },
   "outputs": [
    {
     "name": "stdout",
     "output_type": "stream",
     "text": [
      "2022-11-08-Kraka2022.md     2023-07-21-Lachaize2023.md\n",
      "2022-12-06-Moura2022.md     2023-09-29-Freindorf2023.md\n",
      "2023-05-15-Kraka2023.md     2023-12-02-Freindorf2024.md\n",
      "2023-07-17-Antonio2023.md   2024-04-22-Antonio2024.md\n"
     ]
    }
   ],
   "source": [
    "!ls ../_publications/"
   ]
  },
  {
   "cell_type": "code",
   "execution_count": 25,
   "metadata": {
    "collapsed": false,
    "deletable": true,
    "editable": true
   },
   "outputs": [
    {
     "name": "stdout",
     "output_type": "stream",
     "text": [
      "---\n",
      "title: \"Metal-ring interactions in group 2 ansa-metallocenes: assessed with the local vibrational mode theory\"\n",
      "collection: publications\n",
      "permalink: /publication/2024-04-22-Antonio2024\n",
      "date: 2024-04-22\n",
      "venue: 'Phys. Chem. Chem. Phys.'\n",
      "slidesurl: 'http://academicpages.github.io/files/slides1.pdf'\n",
      "paperurl: 'http://academicpages.github.io/files/paper1.pdf'\n",
      "citation: 'Antonio, Juliana J. and Kraka, Elfi. &quot;Metal-ring interactions in group 2 ansa-metallocenes: assessed with the local vibrational mode theory&quot; <i>Phys. Chem. Chem. Phys.</i>, <b>2024</b>, <i>26</i>, 15143-15155'\n",
      "---\n",
      "[Download slides here](http://academicpages.github.io/files/slides1.pdf)\n",
      "\n",
      "[Download paper here](http://academicpages.github.io/files/paper1.pdf)\n",
      "\n",
      "Recommended citation: Antonio, Juliana J. and Kraka, Elfi. \"Metal-ring interactions in group 2 ansa-metallocenes: assessed with the local vibrational mode theory\" <i>Phys. Chem. Chem. Phys.</i>, <b>2024</b>, <i>26</i>, 15143-15155"
     ]
    }
   ],
   "source": [
    "!cat ../_publications/2024-04-22-Antonio2024.md"
   ]
  },
  {
   "cell_type": "code",
   "execution_count": null,
   "metadata": {
    "collapsed": true,
    "deletable": true,
    "editable": true
   },
   "outputs": [],
   "source": []
  }
 ],
 "metadata": {
  "kernelspec": {
   "display_name": "crystal",
   "language": "python",
   "name": "python3"
  },
  "language_info": {
   "codemirror_mode": {
    "name": "ipython",
    "version": 3
   },
   "file_extension": ".py",
   "mimetype": "text/x-python",
   "name": "python",
   "nbconvert_exporter": "python",
   "pygments_lexer": "ipython3",
   "version": "3.13.5"
  }
 },
 "nbformat": 4,
 "nbformat_minor": 0
}
